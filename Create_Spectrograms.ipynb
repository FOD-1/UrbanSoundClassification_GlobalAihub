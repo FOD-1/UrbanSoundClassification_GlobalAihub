{
  "nbformat": 4,
  "nbformat_minor": 0,
  "metadata": {
    "colab": {
      "provenance": [],
      "collapsed_sections": []
    },
    "kernelspec": {
      "name": "python3",
      "display_name": "Python 3"
    },
    "language_info": {
      "name": "python"
    },
    "accelerator": "GPU"
  },
  "cells": [
    {
      "cell_type": "code",
      "source": [
        "# Drive'a bağlan ve veri seti yolunu bul!\n",
        "from google.colab import drive\n",
        "drive.mount('/content/drive')\n",
        "path = \"/content/drive/MyDrive/GlobalAiHub/UrbanSound8K/\""
      ],
      "metadata": {
        "id": "nL7cTVyLxNV0",
        "colab": {
          "base_uri": "https://localhost:8080/"
        },
        "outputId": "8fde8d61-e66d-4674-f311-2f5269e9b95d"
      },
      "execution_count": 19,
      "outputs": [
        {
          "output_type": "stream",
          "name": "stdout",
          "text": [
            "Drive already mounted at /content/drive; to attempt to forcibly remount, call drive.mount(\"/content/drive\", force_remount=True).\n"
          ]
        }
      ]
    },
    {
      "cell_type": "code",
      "source": [
        "# gerekli kütüphaneleri import et\n",
        "import librosa\n",
        "import librosa.display\n",
        "import numpy as np\n",
        "import pylab\n",
        "import matplotlib.pyplot as plt\n",
        "from PIL import Image\n",
        "from matplotlib import image"
      ],
      "metadata": {
        "id": "OoU14FdWxiYF"
      },
      "execution_count": 17,
      "outputs": []
    },
    {
      "cell_type": "markdown",
      "source": [
        "**Verisetindeki tüm klasörleri okuyup her klasörün içinde bulunan wav dosyların spectrogramı alındıkatan sonra ayrı ayrı yeni klasörlere yükle!:**"
      ],
      "metadata": {
        "id": "R7ASCuzDAvFO"
      }
    },
    {
      "cell_type": "markdown",
      "source": [
        "# **Fold 1**"
      ],
      "metadata": {
        "id": "bCnl8lTUE_aG"
      }
    },
    {
      "cell_type": "code",
      "source": [
        "# fold1(air_conditioner) klasöründeki wav files'ları oku ve spectrogramlarını \n",
        "# yeni klasöre kaydet (SavedSpectrogram/air_conditioner)\n",
        "files = librosa.util.find_files(f\"{path}audio/fold1/\", ext=['wav']) \n",
        "print(\"resimler okunuyor\")\n",
        "for i,y in enumerate(files): \n",
        "    data, sr = librosa.load(y)\n",
        "    pylab.axis('off') # no axis\n",
        "    pylab.axes([0., 0., 1., 1.], frameon=False, xticks=[], yticks=[])\n",
        "    spec = librosa.feature.melspectrogram(y=data, sr=sr)\n",
        "    spec_conv = librosa.amplitude_to_db(spec, ref=np.max)\n",
        "    librosa.display.specshow(spec_conv)\n",
        "    print(\"Spectrogram Oluşturuluyor\")\n",
        "    image.imsave(f\"{path}SavedSpectrogram/air_conditioner/air_conditioner_{i}.png\",np.flipud(spec_conv))\n",
        "    print(f\"{i}. resim kaydediliyor\")\n",
        "    pylab.close()"
      ],
      "metadata": {
        "colab": {
          "base_uri": "https://localhost:8080/"
        },
        "id": "rQRbmxvKxnyA",
        "outputId": "6ad2fd8b-1232-4e31-ebfe-849de7a029e7"
      },
      "execution_count": 18,
      "outputs": [
        {
          "output_type": "stream",
          "name": "stdout",
          "text": [
            "resimler okunuyor\n"
          ]
        }
      ]
    },
    {
      "cell_type": "markdown",
      "source": [
        "# **Fold 2**"
      ],
      "metadata": {
        "id": "h_MZ6P4SFOj-"
      }
    },
    {
      "cell_type": "code",
      "source": [
        "# fold2 (car_horn) klasöründeki wav files'ları oku ve spectrogramlarını \n",
        "# yeni klasöre kaydet (SavedSpectrogram/car_horn)\n",
        "files = librosa.util.find_files(f\"{path}audio/fold2/\", ext=['wav']) \n",
        "print(\"resimler okunuyor\")\n",
        "for i,y in enumerate(files): \n",
        "    data, sr = librosa.load(y)\n",
        "    pylab.axis('off') # no axis\n",
        "    pylab.axes([0., 0., 1., 1.], frameon=False, xticks=[], yticks=[])\n",
        "    spec = librosa.feature.melspectrogram(y=data, sr=sr)\n",
        "    spec_conv = librosa.amplitude_to_db(spec, ref=np.max)\n",
        "    librosa.display.specshow(spec_conv)\n",
        "    print(\"Spectrogram Oluşturuldu\")\n",
        "    image.imsave(f\"{path}SavedSpectrogram/car_horn/car_horn{i}.png\",np.flipud(spec_conv))\n",
        "    print(f\"{i}Okundu\")\n",
        "    pylab.close()"
      ],
      "metadata": {
        "id": "UnKlwGmDCqUZ"
      },
      "execution_count": null,
      "outputs": []
    },
    {
      "cell_type": "markdown",
      "source": [
        "# **Fold 3**"
      ],
      "metadata": {
        "id": "ryPfnfcfFR6Q"
      }
    },
    {
      "cell_type": "code",
      "source": [
        "# fold3 (children_playing) klasöründeki wav files'ları oku ve spectrogramlarını \n",
        "# yeni klasöre kaydet (SavedSpectrogram/children_playing)\n",
        "files = librosa.util.find_files(f\"{path}audio/fold3/\", ext=['wav']) \n",
        "print(\"resimler okunuyor\")\n",
        "for i,y in enumerate(files): \n",
        "    data, sr = librosa.load(y)\n",
        "    pylab.axis('off') # no axis\n",
        "    pylab.axes([0., 0., 1., 1.], frameon=False, xticks=[], yticks=[])\n",
        "    spec = librosa.feature.melspectrogram(y=data, sr=sr)\n",
        "    spec_conv = librosa.amplitude_to_db(spec, ref=np.max)\n",
        "    librosa.display.specshow(spec_conv)\n",
        "    print(\"Spectrogram Oluşturuldu\")\n",
        "    image.imsave(f\"{path}SavedSpectrogram/children_playing/children_playing{i}.png\",np.flipud(spec_conv))\n",
        "    print(f\"{i}Okundu\")\n",
        "    pylab.close()"
      ],
      "metadata": {
        "id": "LtMJXJ2qDBPm"
      },
      "execution_count": null,
      "outputs": []
    },
    {
      "cell_type": "markdown",
      "source": [
        "# **Fold 4**"
      ],
      "metadata": {
        "id": "1H02Ga3HFT6-"
      }
    },
    {
      "cell_type": "code",
      "source": [
        "# fold4 (dog_bark) klasöründeki wav files'ları oku ve spectrogramlarını \n",
        "# yeni klasöre kaydet (SavedSpectrogram/dog_bark)\n",
        "files = librosa.util.find_files(f\"{path}audio/fold4/\", ext=['wav']) \n",
        "print(\"resimler okunuyor\")\n",
        "for i,y in enumerate(files): \n",
        "    data, sr = librosa.load(y)\n",
        "    pylab.axis('off') # no axis\n",
        "    pylab.axes([0., 0., 1., 1.], frameon=False, xticks=[], yticks=[])\n",
        "    spec = librosa.feature.melspectrogram(y=data, sr=sr)\n",
        "    spec_conv = librosa.amplitude_to_db(spec, ref=np.max)\n",
        "    librosa.display.specshow(spec_conv)\n",
        "    print(\"Spectrogram Oluşturuldu\")\n",
        "    image.imsave(f\"{path}SavedSpectrogram/dog_bark/dog_bark{i}.png\",np.flipud(spec_conv))\n",
        "    print(f\"{i}Okundu\")\n",
        "    pylab.close()"
      ],
      "metadata": {
        "id": "vBgTyzilDcyo"
      },
      "execution_count": null,
      "outputs": []
    },
    {
      "cell_type": "markdown",
      "source": [
        "# **Fold 5**"
      ],
      "metadata": {
        "id": "mktHOBZ_FWSm"
      }
    },
    {
      "cell_type": "code",
      "source": [
        "# fold5 (drilling) klasöründeki wav files'ları oku ve spectrogramlarını \n",
        "# yeni klasöre kaydet (SavedSpectrogram/drilling)\n",
        "files = librosa.util.find_files(f\"{path}audio/fold5/\", ext=['wav']) \n",
        "print(\"resimler okunuyor\")\n",
        "for i,y in enumerate(files): \n",
        "    data, sr = librosa.load(y)\n",
        "    pylab.axis('off') # no axis\n",
        "    pylab.axes([0., 0., 1., 1.], frameon=False, xticks=[], yticks=[])\n",
        "    spec = librosa.feature.melspectrogram(y=data, sr=sr)\n",
        "    spec_conv = librosa.amplitude_to_db(spec, ref=np.max)\n",
        "    librosa.display.specshow(spec_conv)\n",
        "    print(\"Spectrogram Oluşturuldu\")\n",
        "    image.imsave(f\"{path}SavedSpectrogram/drilling/drilling{i}.png\",np.flipud(spec_conv))\n",
        "    print(f\"{i}Okundu\")\n",
        "    pylab.close()"
      ],
      "metadata": {
        "id": "hk3AFyXIDt81"
      },
      "execution_count": null,
      "outputs": []
    },
    {
      "cell_type": "markdown",
      "source": [
        "# **Fold 6**"
      ],
      "metadata": {
        "id": "hdAEGiQmFYIp"
      }
    },
    {
      "cell_type": "code",
      "source": [
        "# fold6 (engine_idling) klasöründeki wav files'ları oku ve spectrogramlarını \n",
        "# yeni klasöre kaydet (SavedSpectrogram/engine_idling)\n",
        "files = librosa.util.find_files(f\"{path}audio/fold6/\", ext=['wav']) \n",
        "print(\"resimler okunuyor\")\n",
        "for i,y in enumerate(files): \n",
        "    data, sr = librosa.load(y)\n",
        "    pylab.axis('off') # no axis\n",
        "    pylab.axes([0., 0., 1., 1.], frameon=False, xticks=[], yticks=[])\n",
        "    spec = librosa.feature.melspectrogram(y=data, sr=sr)\n",
        "    spec_conv = librosa.amplitude_to_db(spec, ref=np.max)\n",
        "    librosa.display.specshow(spec_conv)\n",
        "    print(\"Spectrogram Oluşturuldu\")\n",
        "    image.imsave(f\"{path}SavedSpectrogram/engine_idling/engine_idling{i}.png\",np.flipud(spec_conv))\n",
        "    print(f\"{i}Okundu\")\n",
        "    pylab.close()"
      ],
      "metadata": {
        "id": "InZjJ-EeD5wd"
      },
      "execution_count": null,
      "outputs": []
    },
    {
      "cell_type": "markdown",
      "source": [
        "# **Fold 7**"
      ],
      "metadata": {
        "id": "ZxLxmoImFauO"
      }
    },
    {
      "cell_type": "code",
      "source": [
        "# fold7 (gun_shot) klasöründeki wav files'ları oku ve spectrogramlarını \n",
        "# yeni klasöre kaydet (SavedSpectrogram/gun_shot)\n",
        "files = librosa.util.find_files(f\"{path}audio/fold7/\", ext=['wav']) \n",
        "print(\"resimler okunuyor\")\n",
        "for i,y in enumerate(files): \n",
        "    data, sr = librosa.load(y)\n",
        "    pylab.axis('off') # no axis\n",
        "    pylab.axes([0., 0., 1., 1.], frameon=False, xticks=[], yticks=[])\n",
        "    spec = librosa.feature.melspectrogram(y=data, sr=sr)\n",
        "    spec_conv = librosa.amplitude_to_db(spec, ref=np.max)\n",
        "    librosa.display.specshow(spec_conv)\n",
        "    print(\"Spectrogram Oluşturuldu\")\n",
        "    image.imsave(f\"{path}SavedSpectrogram/gun_shot/gun_shot{i}.png\",np.flipud(spec_conv))\n",
        "    print(f\"{i}Okundu\")\n",
        "    pylab.close()"
      ],
      "metadata": {
        "id": "ZokA3URFEEp3"
      },
      "execution_count": null,
      "outputs": []
    },
    {
      "cell_type": "markdown",
      "source": [
        "# **Fold 8**"
      ],
      "metadata": {
        "id": "4F4c4N-5Fcmx"
      }
    },
    {
      "cell_type": "code",
      "source": [
        "# fold8 (jackhammer) klasöründeki wav files'ları oku ve spectrogramlarını \n",
        "# yeni klasöre kaydet (SavedSpectrogram/jackhammer)\n",
        "files = librosa.util.find_files(f\"{path}audio/fold8/\", ext=['wav']) \n",
        "print(\"resimler okunuyor\")\n",
        "for i,y in enumerate(files): \n",
        "    data, sr = librosa.load(y)\n",
        "    pylab.axis('off') # no axis\n",
        "    pylab.axes([0., 0., 1., 1.], frameon=False, xticks=[], yticks=[])\n",
        "    spec = librosa.feature.melspectrogram(y=data, sr=sr)\n",
        "    spec_conv = librosa.amplitude_to_db(spec, ref=np.max)\n",
        "    librosa.display.specshow(spec_conv)\n",
        "    print(\"Spectrogram Oluşturuldu\")\n",
        "    image.imsave(f\"{path}SavedSpectrogram/jackhammer/jackhammer{i}.png\",np.flipud(spec_conv))\n",
        "    print(f\"{i}Okundu\")\n",
        "    pylab.close()"
      ],
      "metadata": {
        "id": "6hqtI21kEObX"
      },
      "execution_count": null,
      "outputs": []
    },
    {
      "cell_type": "markdown",
      "source": [
        "# **Fold 9**"
      ],
      "metadata": {
        "id": "Z1jjtfq4FenO"
      }
    },
    {
      "cell_type": "code",
      "source": [
        "# fold9 (siren) klasöründeki wav files'ları oku ve spectrogramlarını \n",
        "# yeni klasöre kaydet (SavedSpectrogram/siren)\n",
        "files = librosa.util.find_files(f\"{path}audio/fold9/\", ext=['wav']) \n",
        "print(\"resimler okunuyor\")\n",
        "for i,y in enumerate(files): \n",
        "    data, sr = librosa.load(y)\n",
        "    pylab.axis('off') # no axis\n",
        "    pylab.axes([0., 0., 1., 1.], frameon=False, xticks=[], yticks=[])\n",
        "    spec = librosa.feature.melspectrogram(y=data, sr=sr)\n",
        "    spec_conv = librosa.amplitude_to_db(spec, ref=np.max)\n",
        "    librosa.display.specshow(spec_conv)\n",
        "    print(\"Spectrogram Oluşturuldu\")\n",
        "    image.imsave(f\"{path}SavedSpectrogram/siren/siren{i}.png\",np.flipud(spec_conv))\n",
        "    print(f\"{i}Okundu\")\n",
        "    pylab.close()"
      ],
      "metadata": {
        "id": "O1rrmTXHEgOe"
      },
      "execution_count": null,
      "outputs": []
    },
    {
      "cell_type": "markdown",
      "source": [
        "# **Fold 9**"
      ],
      "metadata": {
        "id": "VtUTuX2hFgnW"
      }
    },
    {
      "cell_type": "code",
      "source": [
        "#fold10 (street_music) klasöründeki wav files'ları oku ve spectrogramlarını \n",
        "# yeni klasöre kaydet (SavedSpectrogram/street_music)\n",
        "files = librosa.util.find_files(f\"{path}audio/fold10/\", ext=['wav']) \n",
        "print(\"resimler okunuyor\")\n",
        "for i,y in enumerate(files): \n",
        "    data, sr = librosa.load(y)\n",
        "    pylab.axis('off') # no axis\n",
        "    pylab.axes([0., 0., 1., 1.], frameon=False, xticks=[], yticks=[])\n",
        "    spec = librosa.feature.melspectrogram(y=data, sr=sr)\n",
        "    spec_conv = librosa.amplitude_to_db(spec, ref=np.max)\n",
        "    librosa.display.specshow(spec_conv)\n",
        "    print(\"Spectrogram Oluşturuldu\")\n",
        "    image.imsave(f\"{path}SavedSpectrogram/street_music/street_music{i}.png\",np.flipud(spec_conv))\n",
        "    print(f\"{i}Okundu\")\n",
        "    pylab.close()"
      ],
      "metadata": {
        "id": "pWsCVCdTEnQe"
      },
      "execution_count": null,
      "outputs": []
    }
  ]
}