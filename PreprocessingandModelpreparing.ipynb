{
  "nbformat": 4,
  "nbformat_minor": 0,
  "metadata": {
    "colab": {
      "provenance": [],
      "collapsed_sections": []
    },
    "kernelspec": {
      "name": "python3",
      "display_name": "Python 3"
    },
    "language_info": {
      "name": "python"
    },
    "accelerator": "GPU"
  },
  "cells": [
    {
      "cell_type": "markdown",
      "source": [
        "# **Urban Sound Classification Project**"
      ],
      "metadata": {
        "id": "SHBSeQQ3jpYl"
      }
    },
    {
      "cell_type": "markdown",
      "source": [
        "**Connect to Google drive to pull up the images**"
      ],
      "metadata": {
        "id": "258korz0kHXN"
      }
    },
    {
      "cell_type": "code",
      "execution_count": 29,
      "metadata": {
        "colab": {
          "base_uri": "https://localhost:8080/"
        },
        "id": "JaHZWF6Ahg16",
        "outputId": "27250080-525f-4a89-e8c1-ad4bc76046ba"
      },
      "outputs": [
        {
          "output_type": "stream",
          "name": "stdout",
          "text": [
            "Drive already mounted at /content/drive; to attempt to forcibly remount, call drive.mount(\"/content/drive\", force_remount=True).\n"
          ]
        }
      ],
      "source": [
        "from google.colab import drive\n",
        "drive.mount('/content/drive')"
      ]
    },
    {
      "cell_type": "markdown",
      "source": [
        "**Importing the necessary libraries**"
      ],
      "metadata": {
        "id": "1HgbQ_swj75m"
      }
    },
    {
      "cell_type": "code",
      "source": [
        "import glob\n",
        "import cv2 \n",
        "import matplotlib.pyplot as plt\n",
        "import numpy as np\n",
        "from matplotlib import image\n",
        "from PIL import Image\n",
        "import os\n",
        "import sklearn"
      ],
      "metadata": {
        "id": "KRHBzBWmh_Z7"
      },
      "execution_count": 30,
      "outputs": []
    },
    {
      "cell_type": "markdown",
      "source": [
        "**Load the main path that has the spectrogram images, Read them and then save them to the save_path after preprocessing** **kalın metin**"
      ],
      "metadata": {
        "id": "S2Mst7wikP4_"
      }
    },
    {
      "cell_type": "code",
      "source": [
        "main_read_path = \"/content/drive/MyDrive/GlobalAiHub/Saved_Spectrogram/*\"\n",
        "main_save_path = \"/content/drive/MyDrive/GlobalAiHub/Preprocessed/\""
      ],
      "metadata": {
        "id": "bwxGcvjwTRPB"
      },
      "execution_count": 31,
      "outputs": []
    },
    {
      "cell_type": "markdown",
      "source": [
        "# **Define a method to preprocess the spectrogram images and then save them to the desired directory**\n",
        "\n",
        "---\n",
        "\n"
      ],
      "metadata": {
        "id": "nMz9avfObBdi"
      }
    },
    {
      "cell_type": "code",
      "source": [
        "def preprocess(read_path,save_path):\n",
        "  read_path = read_path + \"/*\"\n",
        "  path = glob.glob(read_path)\n",
        "  for i, img in enumerate(path):\n",
        "    #print(img)\n",
        "    gray_img = cv2.imread(img,0)\n",
        "    resized_img = cv2.resize(gray_img, (224,224))\n",
        "    normalized_img = resized_img/255.0\n",
        "    #plt.axis('off') # no axis\n",
        "    #plt.imshow(normalized_img)\n",
        "    #break\n",
        "    a = save_path.split(\"/\")\n",
        "    #print(a[-2])\n",
        "    image.imsave(f\"{save_path}/{a[-2]}_{i}.png\",normalized_img,cmap=plt.cm.gray)"
      ],
      "metadata": {
        "id": "gqej6dGUSqd-"
      },
      "execution_count": 32,
      "outputs": []
    },
    {
      "cell_type": "markdown",
      "source": [
        "# **Function to read the spectrogram , preprocess them and then return as list for further processing**"
      ],
      "metadata": {
        "id": "dKDX1PBFN-i9"
      }
    },
    {
      "cell_type": "code",
      "source": [
        "def readImagesandTargets(read_path, X, y):\n",
        "  folder = read_path\n",
        "  images = sorted(os.listdir(folder)) #[\"frame_00\", \"frame_01\", \"frame_02\", ...]\n",
        "  for image in images:\n",
        "      im = cv2.imread(folder + \"/\" + image,0)\n",
        "      im = cv2.resize(im,(224,224))\n",
        "      X.append((im)) #.transpose(1, 0, 2))\n",
        "\n",
        "      label = folder.split(\"/\")\n",
        "      y.append(label[-1])\n",
        "\n",
        "  X = np.array(X)\n",
        "  print(X.shape)\n",
        "  return X,y"
      ],
      "metadata": {
        "id": "oNo6dkUdGfyH"
      },
      "execution_count": 33,
      "outputs": []
    },
    {
      "cell_type": "markdown",
      "source": [
        "**Read the paths of the images and add them to a list**"
      ],
      "metadata": {
        "id": "mdYS93C5OR_Y"
      }
    },
    {
      "cell_type": "code",
      "source": [
        "read_path_list = glob.glob(main_read_path)\n",
        "print(len(read_path_list))\n",
        "save_path_list = glob.glob(main_save_path)\n",
        "print(len(save_path_list))\n",
        "read_path_list"
      ],
      "metadata": {
        "id": "av2XhKPvTy5E",
        "colab": {
          "base_uri": "https://localhost:8080/"
        },
        "outputId": "482f4b16-7f65-4365-fefe-f1ccaef81e53"
      },
      "execution_count": 34,
      "outputs": [
        {
          "output_type": "stream",
          "name": "stdout",
          "text": [
            "10\n",
            "1\n"
          ]
        },
        {
          "output_type": "execute_result",
          "data": {
            "text/plain": [
              "['/content/drive/MyDrive/GlobalAiHub/Saved_Spectrogram/fold1',\n",
              " '/content/drive/MyDrive/GlobalAiHub/Saved_Spectrogram/fold2',\n",
              " '/content/drive/MyDrive/GlobalAiHub/Saved_Spectrogram/fold3',\n",
              " '/content/drive/MyDrive/GlobalAiHub/Saved_Spectrogram/fold4',\n",
              " '/content/drive/MyDrive/GlobalAiHub/Saved_Spectrogram/fold5',\n",
              " '/content/drive/MyDrive/GlobalAiHub/Saved_Spectrogram/fold6',\n",
              " '/content/drive/MyDrive/GlobalAiHub/Saved_Spectrogram/fold7',\n",
              " '/content/drive/MyDrive/GlobalAiHub/Saved_Spectrogram/fold8',\n",
              " '/content/drive/MyDrive/GlobalAiHub/Saved_Spectrogram/fold9',\n",
              " '/content/drive/MyDrive/GlobalAiHub/Saved_Spectrogram/fold10']"
            ]
          },
          "metadata": {},
          "execution_count": 34
        }
      ]
    },
    {
      "cell_type": "markdown",
      "source": [
        "** Loop into each path and read the spectrogram, preprocess and then save to the save_path directory **"
      ],
      "metadata": {
        "id": "VycwLOIXOaEt"
      }
    },
    {
      "cell_type": "code",
      "source": [
        "for read_path in (read_path_list):\n",
        "  #print(read_path)\n",
        "  obj = read_path.split(\"/\")\n",
        "  #print(obj[-1])\n",
        "  save_path = main_save_path + obj[-1] + \"/\"\n",
        "  print(save_path)\n",
        "  preprocess(read_path,save_path)"
      ],
      "metadata": {
        "colab": {
          "base_uri": "https://localhost:8080/"
        },
        "id": "WMkHFKAeXeSO",
        "outputId": "2b9f159c-9b14-426d-fcfa-59fe24836835"
      },
      "execution_count": 35,
      "outputs": [
        {
          "output_type": "stream",
          "name": "stdout",
          "text": [
            "/content/drive/MyDrive/GlobalAiHub/Preprocessed/fold1/\n",
            "/content/drive/MyDrive/GlobalAiHub/Preprocessed/fold2/\n",
            "/content/drive/MyDrive/GlobalAiHub/Preprocessed/fold3/\n",
            "/content/drive/MyDrive/GlobalAiHub/Preprocessed/fold4/\n",
            "/content/drive/MyDrive/GlobalAiHub/Preprocessed/fold5/\n",
            "/content/drive/MyDrive/GlobalAiHub/Preprocessed/fold6/\n",
            "/content/drive/MyDrive/GlobalAiHub/Preprocessed/fold7/\n",
            "/content/drive/MyDrive/GlobalAiHub/Preprocessed/fold8/\n",
            "/content/drive/MyDrive/GlobalAiHub/Preprocessed/fold9/\n",
            "/content/drive/MyDrive/GlobalAiHub/Preprocessed/fold10/\n"
          ]
        }
      ]
    },
    {
      "cell_type": "markdown",
      "source": [
        "** Read the X and y as list**"
      ],
      "metadata": {
        "id": "hWGzjFkOOg0F"
      }
    },
    {
      "cell_type": "code",
      "source": [
        "X = []\n",
        "y = []\n",
        "for read_path in (read_path_list):\n",
        "  readImagesandTargets(read_path, X, y)\n",
        "X = np.array(X)\n",
        "y = np.array(y)"
      ],
      "metadata": {
        "colab": {
          "base_uri": "https://localhost:8080/"
        },
        "id": "1cWpGtzZJiaR",
        "outputId": "7cd43431-2ef1-462b-e5f2-099f66c5fded"
      },
      "execution_count": 36,
      "outputs": [
        {
          "output_type": "stream",
          "name": "stdout",
          "text": [
            "(873, 224, 224)\n",
            "(1761, 224, 224)\n",
            "(2686, 224, 224)\n",
            "(3676, 224, 224)\n",
            "(4613, 224, 224)\n",
            "(5436, 224, 224)\n",
            "(6274, 224, 224)\n",
            "(7080, 224, 224)\n",
            "(7896, 224, 224)\n",
            "(8733, 224, 224)\n"
          ]
        }
      ]
    },
    {
      "cell_type": "code",
      "source": [
        "X= X.reshape(X.shape[0], 224, 224, 1)\n",
        "print(np.shape(X))"
      ],
      "metadata": {
        "colab": {
          "base_uri": "https://localhost:8080/"
        },
        "id": "fibTkPZVV2pp",
        "outputId": "52b45e73-45c0-4a3f-9d6b-ad2cee33c647"
      },
      "execution_count": 37,
      "outputs": [
        {
          "output_type": "stream",
          "name": "stdout",
          "text": [
            "(8733, 224, 224, 1)\n"
          ]
        }
      ]
    },
    {
      "cell_type": "code",
      "source": [
        "# Convert the lable to numeric\n",
        "from sklearn.preprocessing import LabelEncoder\n",
        "lb = LabelEncoder()\n",
        "y = lb.fit_transform(y)"
      ],
      "metadata": {
        "id": "PS5V_6t8ZSP1"
      },
      "execution_count": 38,
      "outputs": []
    },
    {
      "cell_type": "markdown",
      "source": [
        "# **Model Training**"
      ],
      "metadata": {
        "id": "itKC3l3aKI_W"
      }
    },
    {
      "cell_type": "markdown",
      "source": [
        "**Split train and test**"
      ],
      "metadata": {
        "id": "L6HRQg1yRjRO"
      }
    },
    {
      "cell_type": "code",
      "source": [
        "from sklearn.model_selection import train_test_split\n",
        "\n",
        "X_train, X_sum, y_train, y_sum = train_test_split(X, y, train_size=0.6, random_state=42, stratify=y)"
      ],
      "metadata": {
        "id": "DUS7SouuKPMp"
      },
      "execution_count": 39,
      "outputs": []
    },
    {
      "cell_type": "code",
      "source": [
        "X_val, X_test, y_val, y_test = train_test_split(X_sum, y_sum, test_size=0.5, random_state=132, stratify=y_sum)"
      ],
      "metadata": {
        "id": "crsRudKbQuZN"
      },
      "execution_count": 40,
      "outputs": []
    },
    {
      "cell_type": "markdown",
      "source": [
        "**print the size of train , valdidation and test sets**"
      ],
      "metadata": {
        "id": "nVrYxo-MRrZW"
      }
    },
    {
      "cell_type": "code",
      "source": [
        "print(np.shape(X_train))\n",
        "print(np.shape(X_sum))\n",
        "print(np.shape(X_test))\n",
        "print(\"----------------------\")\n",
        "print(np.shape(y_train))\n",
        "print(np.shape(y_sum))\n",
        "print(np.shape(y_test))"
      ],
      "metadata": {
        "colab": {
          "base_uri": "https://localhost:8080/"
        },
        "id": "x7UqVcZ6NHA2",
        "outputId": "1b43520e-feee-476c-867c-3de0b22d9caf"
      },
      "execution_count": 41,
      "outputs": [
        {
          "output_type": "stream",
          "name": "stdout",
          "text": [
            "(5239, 224, 224, 1)\n",
            "(3494, 224, 224, 1)\n",
            "(1747, 224, 224, 1)\n",
            "----------------------\n",
            "(5239,)\n",
            "(3494,)\n",
            "(1747,)\n"
          ]
        }
      ]
    },
    {
      "cell_type": "markdown",
      "source": [
        "**Generate the model**"
      ],
      "metadata": {
        "id": "j2QKBforR0gq"
      }
    },
    {
      "cell_type": "code",
      "source": [
        "# import the necessary libraries\n",
        "import tensorflow as tf\n",
        "import matplotlib.pyplot as plt\n",
        "from tensorflow import keras\n",
        "from keras.layers import Dense, Dropout, Conv2D, MaxPooling2D, Flatten, BatchNormalization\n",
        "\n",
        "# set the size of input image, channel, and the number of classes in the database\n",
        "IMG_HEIGHT = 224\n",
        "IMG_WIDTH = 224\n",
        "IMG_Chanel = 1\n",
        "numberOfClass = 10\n",
        "\n",
        "# set the kernel size for convoluition layer , poolsize for pooling layer, the filters used in each layers, and the dropout proportions in each layer.\n",
        "kernel_size = (3,3)\n",
        "pool_size= (2,2)\n",
        "first_filters = 32\n",
        "second_filters = 64\n",
        "third_filters = 128\n",
        "dropout_conv = 0.1\n",
        "dropout_dense = 0.3\n",
        "\n",
        "# Create the model\n",
        "model = tf.keras.Sequential()\n",
        "\n",
        "# add layers\n",
        "# input layer\n",
        "model.add(Conv2D(first_filters, kernel_size, activation='relu', input_shape=(IMG_HEIGHT, IMG_WIDTH, IMG_Chanel)))\n",
        "model.add(BatchNormalization())\n",
        "model.add(MaxPooling2D(pool_size=pool_size))\n",
        "model.add(Dropout(dropout_conv))\n",
        "# first convolunional (hiden) layer\n",
        "model.add(Conv2D(second_filters, kernel_size, activation='relu'))\n",
        "model.add(BatchNormalization())\n",
        "model.add(MaxPooling2D(pool_size=pool_size))\n",
        "model.add(Dropout(dropout_conv))\n",
        "# second convoltional(hiden) layer\n",
        "model.add(Conv2D(third_filters, kernel_size, activation='relu'))\n",
        "model.add(BatchNormalization())\n",
        "model.add(MaxPooling2D(pool_size=pool_size))\n",
        "model.add(Dropout(dropout_conv))\n",
        "# fully connected layer\n",
        "model.add(Flatten())\n",
        "model.add(Dense(256, activation='relu'))\n",
        "model.add(BatchNormalization())\n",
        "model.add(Dropout(dropout_dense))\n",
        "# output layer\n",
        "model.add(Dense(numberOfClass, activation='softmax'))\n",
        "\n",
        "# add the optimizer, the classification loss, and metric and end the model generation\n",
        "optimizer = \"adam\"\n",
        "model.compile(optimizer, loss='SparseCategoricalCrossentropy', metrics=['accuracy'])\n",
        "model.summary()\n",
        "\n",
        "print(\"Model generated successfully:)\")"
      ],
      "metadata": {
        "colab": {
          "base_uri": "https://localhost:8080/"
        },
        "id": "8rZccM_ERgG2",
        "outputId": "b7e67ccb-a187-40de-f273-610fbc8486ee"
      },
      "execution_count": 42,
      "outputs": [
        {
          "output_type": "stream",
          "name": "stdout",
          "text": [
            "Model: \"sequential_1\"\n",
            "_________________________________________________________________\n",
            " Layer (type)                Output Shape              Param #   \n",
            "=================================================================\n",
            " conv2d_3 (Conv2D)           (None, 222, 222, 32)      320       \n",
            "                                                                 \n",
            " batch_normalization_4 (Batc  (None, 222, 222, 32)     128       \n",
            " hNormalization)                                                 \n",
            "                                                                 \n",
            " max_pooling2d_3 (MaxPooling  (None, 111, 111, 32)     0         \n",
            " 2D)                                                             \n",
            "                                                                 \n",
            " dropout_4 (Dropout)         (None, 111, 111, 32)      0         \n",
            "                                                                 \n",
            " conv2d_4 (Conv2D)           (None, 109, 109, 64)      18496     \n",
            "                                                                 \n",
            " batch_normalization_5 (Batc  (None, 109, 109, 64)     256       \n",
            " hNormalization)                                                 \n",
            "                                                                 \n",
            " max_pooling2d_4 (MaxPooling  (None, 54, 54, 64)       0         \n",
            " 2D)                                                             \n",
            "                                                                 \n",
            " dropout_5 (Dropout)         (None, 54, 54, 64)        0         \n",
            "                                                                 \n",
            " conv2d_5 (Conv2D)           (None, 52, 52, 128)       73856     \n",
            "                                                                 \n",
            " batch_normalization_6 (Batc  (None, 52, 52, 128)      512       \n",
            " hNormalization)                                                 \n",
            "                                                                 \n",
            " max_pooling2d_5 (MaxPooling  (None, 26, 26, 128)      0         \n",
            " 2D)                                                             \n",
            "                                                                 \n",
            " dropout_6 (Dropout)         (None, 26, 26, 128)       0         \n",
            "                                                                 \n",
            " flatten_1 (Flatten)         (None, 86528)             0         \n",
            "                                                                 \n",
            " dense_2 (Dense)             (None, 256)               22151424  \n",
            "                                                                 \n",
            " batch_normalization_7 (Batc  (None, 256)              1024      \n",
            " hNormalization)                                                 \n",
            "                                                                 \n",
            " dropout_7 (Dropout)         (None, 256)               0         \n",
            "                                                                 \n",
            " dense_3 (Dense)             (None, 10)                2570      \n",
            "                                                                 \n",
            "=================================================================\n",
            "Total params: 22,248,586\n",
            "Trainable params: 22,247,626\n",
            "Non-trainable params: 960\n",
            "_________________________________________________________________\n",
            "Model generated successfully:)\n"
          ]
        }
      ]
    },
    {
      "cell_type": "markdown",
      "source": [
        "**Train the model**"
      ],
      "metadata": {
        "id": "tJw0jT5ZWdXX"
      }
    },
    {
      "cell_type": "code",
      "source": [
        "results = model.fit(X_train, y_train, validation_data= (X_val, y_val), batch_size=16 , epochs=100)"
      ],
      "metadata": {
        "colab": {
          "base_uri": "https://localhost:8080/"
        },
        "id": "JbU-3KETbEn-",
        "outputId": "21614fb5-5ec9-48f4-b998-1dc4cf2469c8"
      },
      "execution_count": 43,
      "outputs": [
        {
          "output_type": "stream",
          "name": "stdout",
          "text": [
            "Epoch 1/100\n",
            "328/328 [==============================] - 15s 43ms/step - loss: 2.6165 - accuracy: 0.1514 - val_loss: 2.5722 - val_accuracy: 0.1546\n",
            "Epoch 2/100\n",
            "328/328 [==============================] - 14s 43ms/step - loss: 2.3273 - accuracy: 0.2187 - val_loss: 2.3351 - val_accuracy: 0.2095\n",
            "Epoch 3/100\n",
            "328/328 [==============================] - 14s 43ms/step - loss: 2.0938 - accuracy: 0.2869 - val_loss: 2.2238 - val_accuracy: 0.2181\n",
            "Epoch 4/100\n",
            "328/328 [==============================] - 14s 43ms/step - loss: 1.8695 - accuracy: 0.3686 - val_loss: 1.9787 - val_accuracy: 0.3738\n",
            "Epoch 5/100\n",
            "328/328 [==============================] - 14s 43ms/step - loss: 1.6068 - accuracy: 0.4724 - val_loss: 1.9545 - val_accuracy: 0.3600\n",
            "Epoch 6/100\n",
            "328/328 [==============================] - 14s 43ms/step - loss: 1.4679 - accuracy: 0.5150 - val_loss: 2.1486 - val_accuracy: 0.3074\n",
            "Epoch 7/100\n",
            "328/328 [==============================] - 14s 43ms/step - loss: 1.3593 - accuracy: 0.5562 - val_loss: 2.5860 - val_accuracy: 0.1643\n",
            "Epoch 8/100\n",
            "328/328 [==============================] - 14s 43ms/step - loss: 1.0597 - accuracy: 0.6538 - val_loss: 1.9386 - val_accuracy: 0.4173\n",
            "Epoch 9/100\n",
            "328/328 [==============================] - 14s 43ms/step - loss: 0.6308 - accuracy: 0.8032 - val_loss: 2.0779 - val_accuracy: 0.4201\n",
            "Epoch 10/100\n",
            "328/328 [==============================] - 14s 43ms/step - loss: 0.4134 - accuracy: 0.8805 - val_loss: 1.9903 - val_accuracy: 0.4791\n",
            "Epoch 11/100\n",
            "328/328 [==============================] - 14s 43ms/step - loss: 0.3058 - accuracy: 0.9053 - val_loss: 2.4127 - val_accuracy: 0.3738\n",
            "Epoch 12/100\n",
            "328/328 [==============================] - 14s 43ms/step - loss: 0.1965 - accuracy: 0.9437 - val_loss: 2.1358 - val_accuracy: 0.4848\n",
            "Epoch 13/100\n",
            "328/328 [==============================] - 14s 43ms/step - loss: 0.1396 - accuracy: 0.9605 - val_loss: 2.2997 - val_accuracy: 0.4585\n",
            "Epoch 14/100\n",
            "328/328 [==============================] - 14s 43ms/step - loss: 0.1551 - accuracy: 0.9551 - val_loss: 5.4438 - val_accuracy: 0.1568\n",
            "Epoch 15/100\n",
            "328/328 [==============================] - 14s 43ms/step - loss: 0.1958 - accuracy: 0.9414 - val_loss: 2.4285 - val_accuracy: 0.4711\n",
            "Epoch 16/100\n",
            "328/328 [==============================] - 14s 43ms/step - loss: 0.1074 - accuracy: 0.9721 - val_loss: 2.6310 - val_accuracy: 0.4402\n",
            "Epoch 17/100\n",
            "328/328 [==============================] - 14s 43ms/step - loss: 0.0853 - accuracy: 0.9782 - val_loss: 2.5271 - val_accuracy: 0.4860\n",
            "Epoch 18/100\n",
            "328/328 [==============================] - 14s 43ms/step - loss: 0.0608 - accuracy: 0.9840 - val_loss: 2.6202 - val_accuracy: 0.4934\n",
            "Epoch 19/100\n",
            "328/328 [==============================] - 14s 43ms/step - loss: 0.0520 - accuracy: 0.9861 - val_loss: 2.6855 - val_accuracy: 0.4837\n",
            "Epoch 20/100\n",
            "328/328 [==============================] - 14s 43ms/step - loss: 0.0951 - accuracy: 0.9714 - val_loss: 7.9780 - val_accuracy: 0.1494\n",
            "Epoch 21/100\n",
            "328/328 [==============================] - 14s 43ms/step - loss: 0.2340 - accuracy: 0.9202 - val_loss: 2.9066 - val_accuracy: 0.4224\n",
            "Epoch 22/100\n",
            "328/328 [==============================] - 14s 43ms/step - loss: 0.0780 - accuracy: 0.9782 - val_loss: 2.9379 - val_accuracy: 0.4367\n",
            "Epoch 23/100\n",
            "328/328 [==============================] - 14s 43ms/step - loss: 0.0594 - accuracy: 0.9845 - val_loss: 3.1312 - val_accuracy: 0.4310\n",
            "Epoch 24/100\n",
            "328/328 [==============================] - 14s 43ms/step - loss: 0.0433 - accuracy: 0.9868 - val_loss: 3.4811 - val_accuracy: 0.4013\n",
            "Epoch 25/100\n",
            "328/328 [==============================] - 14s 43ms/step - loss: 0.0374 - accuracy: 0.9905 - val_loss: 2.9197 - val_accuracy: 0.4934\n",
            "Epoch 26/100\n",
            "328/328 [==============================] - 14s 43ms/step - loss: 0.0451 - accuracy: 0.9885 - val_loss: 2.9542 - val_accuracy: 0.4694\n",
            "Epoch 27/100\n",
            "328/328 [==============================] - 14s 43ms/step - loss: 0.1356 - accuracy: 0.9580 - val_loss: 3.1426 - val_accuracy: 0.4356\n",
            "Epoch 28/100\n",
            "328/328 [==============================] - 14s 43ms/step - loss: 0.1049 - accuracy: 0.9662 - val_loss: 2.9676 - val_accuracy: 0.4797\n",
            "Epoch 29/100\n",
            "328/328 [==============================] - 14s 43ms/step - loss: 0.0590 - accuracy: 0.9811 - val_loss: 3.2798 - val_accuracy: 0.4345\n",
            "Epoch 30/100\n",
            "328/328 [==============================] - 14s 43ms/step - loss: 0.0432 - accuracy: 0.9882 - val_loss: 2.8961 - val_accuracy: 0.4745\n",
            "Epoch 31/100\n",
            "328/328 [==============================] - 14s 43ms/step - loss: 0.0470 - accuracy: 0.9845 - val_loss: 3.3153 - val_accuracy: 0.4585\n",
            "Epoch 32/100\n",
            "328/328 [==============================] - 14s 43ms/step - loss: 0.0473 - accuracy: 0.9855 - val_loss: 2.9774 - val_accuracy: 0.4740\n",
            "Epoch 33/100\n",
            "328/328 [==============================] - 14s 43ms/step - loss: 0.0407 - accuracy: 0.9891 - val_loss: 3.0842 - val_accuracy: 0.4808\n",
            "Epoch 34/100\n",
            "328/328 [==============================] - 14s 43ms/step - loss: 0.0727 - accuracy: 0.9796 - val_loss: 3.2203 - val_accuracy: 0.4631\n",
            "Epoch 35/100\n",
            "328/328 [==============================] - 14s 43ms/step - loss: 0.0491 - accuracy: 0.9855 - val_loss: 3.2839 - val_accuracy: 0.4762\n",
            "Epoch 36/100\n",
            "328/328 [==============================] - 14s 43ms/step - loss: 0.0313 - accuracy: 0.9908 - val_loss: 3.2972 - val_accuracy: 0.4705\n",
            "Epoch 37/100\n",
            "328/328 [==============================] - 14s 43ms/step - loss: 0.0296 - accuracy: 0.9920 - val_loss: 3.5570 - val_accuracy: 0.4682\n",
            "Epoch 38/100\n",
            "328/328 [==============================] - 14s 43ms/step - loss: 0.0407 - accuracy: 0.9878 - val_loss: 3.7009 - val_accuracy: 0.4345\n",
            "Epoch 39/100\n",
            "328/328 [==============================] - 14s 43ms/step - loss: 0.0524 - accuracy: 0.9840 - val_loss: 3.4125 - val_accuracy: 0.4453\n",
            "Epoch 40/100\n",
            "328/328 [==============================] - 14s 43ms/step - loss: 0.0508 - accuracy: 0.9828 - val_loss: 4.3110 - val_accuracy: 0.4379\n",
            "Epoch 41/100\n",
            "328/328 [==============================] - 14s 43ms/step - loss: 0.0381 - accuracy: 0.9887 - val_loss: 3.3597 - val_accuracy: 0.4659\n",
            "Epoch 42/100\n",
            "328/328 [==============================] - 14s 43ms/step - loss: 0.0374 - accuracy: 0.9878 - val_loss: 2.9988 - val_accuracy: 0.4425\n",
            "Epoch 43/100\n",
            "328/328 [==============================] - 14s 43ms/step - loss: 0.0361 - accuracy: 0.9903 - val_loss: 3.8997 - val_accuracy: 0.4322\n",
            "Epoch 44/100\n",
            "328/328 [==============================] - 14s 43ms/step - loss: 0.0479 - accuracy: 0.9840 - val_loss: 3.7674 - val_accuracy: 0.4213\n",
            "Epoch 45/100\n",
            "328/328 [==============================] - 14s 43ms/step - loss: 0.0395 - accuracy: 0.9885 - val_loss: 3.2164 - val_accuracy: 0.4551\n",
            "Epoch 46/100\n",
            "328/328 [==============================] - 14s 43ms/step - loss: 0.0336 - accuracy: 0.9901 - val_loss: 3.3057 - val_accuracy: 0.4339\n",
            "Epoch 47/100\n",
            "328/328 [==============================] - 14s 43ms/step - loss: 0.0246 - accuracy: 0.9922 - val_loss: 3.5654 - val_accuracy: 0.4602\n",
            "Epoch 48/100\n",
            "328/328 [==============================] - 14s 43ms/step - loss: 0.0678 - accuracy: 0.9779 - val_loss: 3.7940 - val_accuracy: 0.4631\n",
            "Epoch 49/100\n",
            "328/328 [==============================] - 14s 44ms/step - loss: 0.0385 - accuracy: 0.9866 - val_loss: 3.6200 - val_accuracy: 0.4711\n",
            "Epoch 50/100\n",
            "328/328 [==============================] - 14s 43ms/step - loss: 0.0419 - accuracy: 0.9889 - val_loss: 3.6250 - val_accuracy: 0.4717\n",
            "Epoch 51/100\n",
            "328/328 [==============================] - 14s 43ms/step - loss: 0.0270 - accuracy: 0.9897 - val_loss: 3.8121 - val_accuracy: 0.4688\n",
            "Epoch 52/100\n",
            "328/328 [==============================] - 14s 43ms/step - loss: 0.0221 - accuracy: 0.9945 - val_loss: 3.1925 - val_accuracy: 0.4619\n",
            "Epoch 53/100\n",
            "328/328 [==============================] - 14s 43ms/step - loss: 0.0316 - accuracy: 0.9908 - val_loss: 4.5035 - val_accuracy: 0.4608\n",
            "Epoch 54/100\n",
            "328/328 [==============================] - 14s 43ms/step - loss: 0.0349 - accuracy: 0.9878 - val_loss: 3.3674 - val_accuracy: 0.4717\n",
            "Epoch 55/100\n",
            "328/328 [==============================] - 14s 43ms/step - loss: 0.0317 - accuracy: 0.9914 - val_loss: 4.1656 - val_accuracy: 0.4722\n",
            "Epoch 56/100\n",
            "328/328 [==============================] - 14s 43ms/step - loss: 0.0323 - accuracy: 0.9901 - val_loss: 3.6673 - val_accuracy: 0.4465\n",
            "Epoch 57/100\n",
            "328/328 [==============================] - 14s 43ms/step - loss: 0.0432 - accuracy: 0.9882 - val_loss: 3.6463 - val_accuracy: 0.4116\n",
            "Epoch 58/100\n",
            "328/328 [==============================] - 14s 43ms/step - loss: 0.0269 - accuracy: 0.9914 - val_loss: 3.6245 - val_accuracy: 0.4762\n",
            "Epoch 59/100\n",
            "328/328 [==============================] - 14s 43ms/step - loss: 0.0212 - accuracy: 0.9950 - val_loss: 3.3563 - val_accuracy: 0.4825\n",
            "Epoch 60/100\n",
            "328/328 [==============================] - 14s 44ms/step - loss: 0.0311 - accuracy: 0.9926 - val_loss: 3.5854 - val_accuracy: 0.4791\n",
            "Epoch 61/100\n",
            "328/328 [==============================] - 14s 43ms/step - loss: 0.0291 - accuracy: 0.9901 - val_loss: 3.4103 - val_accuracy: 0.4757\n",
            "Epoch 62/100\n",
            "328/328 [==============================] - 14s 43ms/step - loss: 0.0182 - accuracy: 0.9947 - val_loss: 3.9851 - val_accuracy: 0.4516\n",
            "Epoch 63/100\n",
            "328/328 [==============================] - 14s 43ms/step - loss: 0.0281 - accuracy: 0.9922 - val_loss: 3.9134 - val_accuracy: 0.4522\n",
            "Epoch 64/100\n",
            "328/328 [==============================] - 14s 43ms/step - loss: 0.0270 - accuracy: 0.9916 - val_loss: 3.6916 - val_accuracy: 0.4768\n",
            "Epoch 65/100\n",
            "328/328 [==============================] - 14s 43ms/step - loss: 0.0275 - accuracy: 0.9910 - val_loss: 3.9719 - val_accuracy: 0.4682\n",
            "Epoch 66/100\n",
            "328/328 [==============================] - 14s 43ms/step - loss: 0.0184 - accuracy: 0.9943 - val_loss: 3.4597 - val_accuracy: 0.4768\n",
            "Epoch 67/100\n",
            "328/328 [==============================] - 14s 43ms/step - loss: 0.0409 - accuracy: 0.9861 - val_loss: 5.3020 - val_accuracy: 0.3892\n",
            "Epoch 68/100\n",
            "328/328 [==============================] - 14s 43ms/step - loss: 0.0430 - accuracy: 0.9882 - val_loss: 3.9891 - val_accuracy: 0.4488\n",
            "Epoch 69/100\n",
            "328/328 [==============================] - 14s 43ms/step - loss: 0.0191 - accuracy: 0.9939 - val_loss: 3.8582 - val_accuracy: 0.4659\n",
            "Epoch 70/100\n",
            "328/328 [==============================] - 14s 43ms/step - loss: 0.0185 - accuracy: 0.9952 - val_loss: 3.7755 - val_accuracy: 0.4820\n",
            "Epoch 71/100\n",
            "328/328 [==============================] - 14s 44ms/step - loss: 0.0269 - accuracy: 0.9926 - val_loss: 3.6623 - val_accuracy: 0.4843\n",
            "Epoch 72/100\n",
            "328/328 [==============================] - 14s 43ms/step - loss: 0.0236 - accuracy: 0.9922 - val_loss: 3.8373 - val_accuracy: 0.4751\n",
            "Epoch 73/100\n",
            "328/328 [==============================] - 14s 43ms/step - loss: 0.0262 - accuracy: 0.9920 - val_loss: 4.2150 - val_accuracy: 0.4797\n",
            "Epoch 74/100\n",
            "328/328 [==============================] - 14s 43ms/step - loss: 0.0160 - accuracy: 0.9950 - val_loss: 3.8472 - val_accuracy: 0.4900\n",
            "Epoch 75/100\n",
            "328/328 [==============================] - 14s 43ms/step - loss: 0.0257 - accuracy: 0.9927 - val_loss: 3.7677 - val_accuracy: 0.4728\n",
            "Epoch 76/100\n",
            "328/328 [==============================] - 14s 43ms/step - loss: 0.0295 - accuracy: 0.9903 - val_loss: 3.8127 - val_accuracy: 0.4705\n",
            "Epoch 77/100\n",
            "328/328 [==============================] - 14s 44ms/step - loss: 0.0286 - accuracy: 0.9912 - val_loss: 3.9423 - val_accuracy: 0.4751\n",
            "Epoch 78/100\n",
            "328/328 [==============================] - 14s 43ms/step - loss: 0.0350 - accuracy: 0.9906 - val_loss: 3.7809 - val_accuracy: 0.4705\n",
            "Epoch 79/100\n",
            "328/328 [==============================] - 14s 43ms/step - loss: 0.0248 - accuracy: 0.9931 - val_loss: 3.6583 - val_accuracy: 0.4728\n",
            "Epoch 80/100\n",
            "328/328 [==============================] - 14s 43ms/step - loss: 0.0363 - accuracy: 0.9887 - val_loss: 4.6593 - val_accuracy: 0.4287\n",
            "Epoch 81/100\n",
            "328/328 [==============================] - 14s 43ms/step - loss: 0.0250 - accuracy: 0.9924 - val_loss: 3.7777 - val_accuracy: 0.4734\n",
            "Epoch 82/100\n",
            "328/328 [==============================] - 14s 44ms/step - loss: 0.0235 - accuracy: 0.9935 - val_loss: 4.9710 - val_accuracy: 0.4058\n",
            "Epoch 83/100\n",
            "328/328 [==============================] - 14s 43ms/step - loss: 0.0294 - accuracy: 0.9929 - val_loss: 3.5812 - val_accuracy: 0.4562\n",
            "Epoch 84/100\n",
            "328/328 [==============================] - 14s 43ms/step - loss: 0.0265 - accuracy: 0.9901 - val_loss: 3.8845 - val_accuracy: 0.4694\n",
            "Epoch 85/100\n",
            "328/328 [==============================] - 14s 43ms/step - loss: 0.0198 - accuracy: 0.9945 - val_loss: 3.5272 - val_accuracy: 0.4814\n",
            "Epoch 86/100\n",
            "328/328 [==============================] - 14s 43ms/step - loss: 0.0208 - accuracy: 0.9935 - val_loss: 3.7744 - val_accuracy: 0.4751\n",
            "Epoch 87/100\n",
            "328/328 [==============================] - 14s 43ms/step - loss: 0.0379 - accuracy: 0.9889 - val_loss: 3.9453 - val_accuracy: 0.4768\n",
            "Epoch 88/100\n",
            "328/328 [==============================] - 14s 44ms/step - loss: 0.0237 - accuracy: 0.9926 - val_loss: 4.2838 - val_accuracy: 0.4865\n",
            "Epoch 89/100\n",
            "328/328 [==============================] - 14s 43ms/step - loss: 0.0251 - accuracy: 0.9920 - val_loss: 4.0529 - val_accuracy: 0.4762\n",
            "Epoch 90/100\n",
            "328/328 [==============================] - 14s 43ms/step - loss: 0.0182 - accuracy: 0.9947 - val_loss: 4.0659 - val_accuracy: 0.4865\n",
            "Epoch 91/100\n",
            "328/328 [==============================] - 14s 43ms/step - loss: 0.0162 - accuracy: 0.9948 - val_loss: 3.6307 - val_accuracy: 0.4785\n",
            "Epoch 92/100\n",
            "328/328 [==============================] - 14s 43ms/step - loss: 0.0132 - accuracy: 0.9960 - val_loss: 3.8070 - val_accuracy: 0.4625\n",
            "Epoch 93/100\n",
            "328/328 [==============================] - 14s 44ms/step - loss: 0.0289 - accuracy: 0.9924 - val_loss: 3.8459 - val_accuracy: 0.4820\n",
            "Epoch 94/100\n",
            "328/328 [==============================] - 14s 43ms/step - loss: 0.0165 - accuracy: 0.9952 - val_loss: 4.3892 - val_accuracy: 0.4780\n",
            "Epoch 95/100\n",
            "328/328 [==============================] - 14s 43ms/step - loss: 0.0234 - accuracy: 0.9939 - val_loss: 3.9769 - val_accuracy: 0.4396\n",
            "Epoch 96/100\n",
            "328/328 [==============================] - 14s 44ms/step - loss: 0.0289 - accuracy: 0.9918 - val_loss: 3.8160 - val_accuracy: 0.4448\n",
            "Epoch 97/100\n",
            "328/328 [==============================] - 14s 44ms/step - loss: 0.0251 - accuracy: 0.9912 - val_loss: 3.9853 - val_accuracy: 0.4883\n",
            "Epoch 98/100\n",
            "328/328 [==============================] - 14s 43ms/step - loss: 0.0284 - accuracy: 0.9908 - val_loss: 4.4209 - val_accuracy: 0.4774\n",
            "Epoch 99/100\n",
            "328/328 [==============================] - 14s 43ms/step - loss: 0.0328 - accuracy: 0.9910 - val_loss: 3.9671 - val_accuracy: 0.4934\n",
            "Epoch 100/100\n",
            "328/328 [==============================] - 14s 43ms/step - loss: 0.0265 - accuracy: 0.9924 - val_loss: 4.1838 - val_accuracy: 0.4305\n"
          ]
        }
      ]
    },
    {
      "cell_type": "code",
      "source": [
        "# Plot the the training loss\n",
        "plt.plot(results.history['loss'], label='loss')\n",
        "\n",
        "# Plot the the validation loss\n",
        "plt.plot(results.history['val_loss'], label='val_loss')\n",
        "\n",
        "# Name the x and y axises\n",
        "plt.xlabel('Epoch')\n",
        "plt.ylabel('Loss')\n",
        "# Put legend table\n",
        "plt.legend()\n",
        "\n",
        "# Show the plot\n",
        "plt.show()"
      ],
      "metadata": {
        "colab": {
          "base_uri": "https://localhost:8080/",
          "height": 279
        },
        "id": "Te-VEjoidhKc",
        "outputId": "597996d2-2420-41ff-9175-95d08ce0e603"
      },
      "execution_count": 44,
      "outputs": [
        {
          "output_type": "display_data",
          "data": {
            "text/plain": [
              "<Figure size 432x288 with 1 Axes>"
            ],
            "image/png": "[encoded data removed]"
          },
          "metadata": {
            "needs_background": "light"
          }
        }
      ]
    },
    {
      "cell_type": "code",
      "source": [
        "# Plot the the training accuracy\n",
        "plt.plot(results.history['accuracy'], label='accuracy')\n",
        "\n",
        "# Plot the the validation accuracy\n",
        "plt.plot(results.history['val_accuracy'], label='val_accuracy')\n",
        "\n",
        "# Name the x and y axises\n",
        "plt.xlabel('Epoch')\n",
        "plt.ylabel('Accuracy')\n",
        "\n",
        "# Put legend table\n",
        "plt.legend()\n",
        "\n",
        "# Show the plot\n",
        "plt.show()"
      ],
      "metadata": {
        "colab": {
          "base_uri": "https://localhost:8080/",
          "height": 279
        },
        "id": "AYEu3BPAdkYt",
        "outputId": "0d3ae948-340b-4fda-cd0a-777c59165bd2"
      },
      "execution_count": 45,
      "outputs": [
        {
          "output_type": "display_data",
          "data": {
            "text/plain": [
              "<Figure size 432x288 with 1 Axes>"
            ],
            "image/png": "[encoded data removed]"
          },
          "metadata": {
            "needs_background": "light"
          }
        }
      ]
    },
    {
      "cell_type": "code",
      "source": [
        "# Evaluate the performance\n",
        "model.evaluate(X_test,y_test)"
      ],
      "metadata": {
        "colab": {
          "base_uri": "https://localhost:8080/"
        },
        "id": "aQmrwHiUdqLM",
        "outputId": "1fd7d8f5-ae5b-4ec7-fbf9-23d1abc46fc1"
      },
      "execution_count": 46,
      "outputs": [
        {
          "output_type": "stream",
          "name": "stdout",
          "text": [
            "55/55 [==============================] - 1s 21ms/step - loss: 4.0923 - accuracy: 0.4287\n"
          ]
        },
        {
          "output_type": "execute_result",
          "data": {
            "text/plain": [
              "[4.092334270477295, 0.42873498797416687]"
            ]
          },
          "metadata": {},
          "execution_count": 46
        }
      ]
    },
    {
      "cell_type": "code",
      "source": [
        "# Make prediction on the reshaped sample\n",
        "prediction_result = model.predict(X_test[193].reshape(1,224,224,1))\n",
        "\n",
        "# Print the prediction result\n",
        "prediction_result\n",
        "# Find the predicted class\n",
        "predicted_class = prediction_result.argmax()\n",
        "# Find the prediction probability\n",
        "prediction_probability = prediction_result.max()\n",
        "# Print the results\n",
        "print(f'This image belongs to class {predicted_class} with {prediction_probability} probability %')"
      ],
      "metadata": {
        "colab": {
          "base_uri": "https://localhost:8080/"
        },
        "id": "zvDfcvrQdxJB",
        "outputId": "cef6f83a-39cb-4f37-fe69-b4a694d67578"
      },
      "execution_count": 49,
      "outputs": [
        {
          "output_type": "stream",
          "name": "stdout",
          "text": [
            "This image belongs to class 6 with 0.45207080245018005 probability %\n"
          ]
        }
      ]
    }
  ]
}