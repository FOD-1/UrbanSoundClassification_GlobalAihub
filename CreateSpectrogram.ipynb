{
  "nbformat": 4,
  "nbformat_minor": 0,
  "metadata": {
    "colab": {
      "provenance": []
    },
    "kernelspec": {
      "name": "python3",
      "display_name": "Python 3"
    },
    "language_info": {
      "name": "python"
    },
    "accelerator": "GPU"
  },
  "cells": [
    {
      "cell_type": "markdown",
      "source": [
        "**This file first read the wav files and convert to spectrogram and save the images for furhter processing**"
      ],
      "metadata": {
        "id": "lgn6RfKjoiq6"
      }
    },
    {
      "cell_type": "markdown",
      "source": [
        "**Connect to Drive**"
      ],
      "metadata": {
        "id": "p8QIUpiKod1w"
      }
    },
    {
      "cell_type": "code",
      "source": [
        "from google.colab import drive\n",
        "drive.mount('/content/drive')\n",
        "path = \"/content/drive/MyDrive/GlobalAiHub/UrbanSound8K/\""
      ],
      "metadata": {
        "id": "nL7cTVyLxNV0",
        "colab": {
          "base_uri": "https://localhost:8080/"
        },
        "outputId": "8aa9f070-3512-49c7-f8eb-2a7922ab6762"
      },
      "execution_count": 1,
      "outputs": [
        {
          "output_type": "stream",
          "name": "stdout",
          "text": [
            "Mounted at /content/drive\n"
          ]
        }
      ]
    },
    {
      "cell_type": "markdown",
      "source": [
        "**Import the necessary libraries**"
      ],
      "metadata": {
        "id": "C5MOb3fxoWKx"
      }
    },
    {
      "cell_type": "code",
      "source": [
        "import librosa\n",
        "import librosa.display\n",
        "import numpy as np\n",
        "import pylab\n",
        "import matplotlib.pyplot as plt\n",
        "from PIL import Image\n",
        "from matplotlib import image\n",
        "import os\n",
        "import glob"
      ],
      "metadata": {
        "id": "OoU14FdWxiYF"
      },
      "execution_count": 3,
      "outputs": []
    },
    {
      "cell_type": "markdown",
      "source": [
        "**Load the main path that has the spectrogram images, Read them and then save them to the save_path after preprocessing**"
      ],
      "metadata": {
        "id": "DwXJfGFrpJeR"
      }
    },
    {
      "cell_type": "code",
      "source": [
        "main_read_path = \"/content/drive/MyDrive/GlobalAiHub/UrbanSound8K/audio/*\"\n",
        "main_save_path = \"/content/drive/MyDrive/GlobalAiHub/Saved_Spectrogram/\""
      ],
      "metadata": {
        "id": "hxnZ-TKdtmPg"
      },
      "execution_count": 4,
      "outputs": []
    },
    {
      "cell_type": "markdown",
      "source": [
        "**Read the paths of the images and add them to a list**"
      ],
      "metadata": {
        "id": "9RiAKiH5pRoR"
      }
    },
    {
      "cell_type": "code",
      "source": [
        "read_path_list = glob.glob(main_read_path)\n",
        "print(len(read_path_list))\n",
        "save_path_list = glob.glob(main_save_path)\n",
        "print(len(save_path_list))"
      ],
      "metadata": {
        "colab": {
          "base_uri": "https://localhost:8080/"
        },
        "id": "-i-qXnMrt2Kx",
        "outputId": "e6657d4d-6023-43b8-e3ec-27ea7b9ed10b"
      },
      "execution_count": 5,
      "outputs": [
        {
          "output_type": "stream",
          "name": "stdout",
          "text": [
            "10\n",
            "1\n"
          ]
        }
      ]
    },
    {
      "cell_type": "markdown",
      "source": [
        "**Create a function that read the wav files, convert to speectrogram and save them for only one folder**"
      ],
      "metadata": {
        "id": "Yz5GMmsMpswU"
      }
    },
    {
      "cell_type": "code",
      "source": [
        "def CreateSpectrogram(read_path, save_path):\n",
        "  files = librosa.util.find_files(f\"{read_path}\", ext=['wav']) \n",
        "  #print(\"resimler okunuyor\")\n",
        "  for i,y in enumerate(files): \n",
        "      data, sr = librosa.load(y)\n",
        "      pylab.axis('off') # no axis\n",
        "      pylab.axes([0., 0., 1., 1.], frameon=False, xticks=[], yticks=[])\n",
        "      spec = librosa.feature.melspectrogram(y=data, sr=sr)\n",
        "      spec_conv = librosa.amplitude_to_db(spec, ref=np.max)\n",
        "      librosa.display.specshow(spec_conv)\n",
        "      #print(\"Spectrogram Oluşturuldu\")\n",
        "      obj = read_path.split(\"/\")\n",
        "      image.imsave(f\"{save_path}{obj[-1]}_{i}.png\",np.flipud(spec_conv))\n",
        "      #print(f\"{i}Okundu\")\n",
        "      pylab.close()"
      ],
      "metadata": {
        "id": "UnKlwGmDCqUZ"
      },
      "execution_count": 6,
      "outputs": []
    },
    {
      "cell_type": "markdown",
      "source": [
        "**Create a function that read the wav files, convert to speectrogram and save them for all folders**\n"
      ],
      "metadata": {
        "id": "VeZUhRj0qAQz"
      }
    },
    {
      "cell_type": "code",
      "source": [
        "for read_path in (read_path_list):\n",
        "  obj = read_path.split(\"/\")\n",
        "  save_path = main_save_path + obj[-1] + \"/\"\n",
        "  CreateSpectrogram(read_path, save_path)\n",
        "  print(f\"{obj[-1]}_Okundu\")"
      ],
      "metadata": {
        "colab": {
          "base_uri": "https://localhost:8080/"
        },
        "id": "YRhWQxgHz7bo",
        "outputId": "bfd4b940-0377-4177-ade1-498492f6e170"
      },
      "execution_count": null,
      "outputs": [
        {
          "output_type": "stream",
          "name": "stdout",
          "text": [
            "fold4_Okundu\n",
            "fold9_Okundu\n",
            "fold7_Okundu\n",
            "fold3_Okundu\n",
            "fold6_Okundu\n",
            "fold5_Okundu\n",
            "fold8_Okundu\n"
          ]
        },
        {
          "output_type": "stream",
          "name": "stderr",
          "text": [
            "/usr/local/lib/python3.7/dist-packages/librosa/core/spectrum.py:224: UserWarning: n_fft=2048 is too small for input signal of length=1323\n",
            "  n_fft, y.shape[-1]\n"
          ]
        },
        {
          "output_type": "stream",
          "name": "stdout",
          "text": [
            "fold2_Okundu\n"
          ]
        }
      ]
    }
  ]
}